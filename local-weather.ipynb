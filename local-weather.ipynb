{
 "cells": [
  {
   "cell_type": "code",
   "execution_count": null,
   "metadata": {},
   "outputs": [],
   "source": [
    "import requests\n",
    "import pandas as pd\n",
    "import plotly.express as px\n",
    "from pprint import pprint\n",
    "\n",
    "weather_api_url = \"https://api.weather.gov\"\n",
    "weather_api_headers = {\"User-Agent\": \"(MastaPegsWeatherTest, mastapegs01@gmail.com)\"}\n",
    "\n",
    "# coordinates for Johnston RI\n",
    "latitude = \"41.8268\"\n",
    "longitude = \"-71.5130\"\n",
    "\n",
    "\n",
    "def get_weather(path: str, use_full_url=False):\n",
    "    r = requests.get(\n",
    "        path if use_full_url else f\"{weather_api_url}/{path}\",\n",
    "        headers=weather_api_headers,\n",
    "    )\n",
    "\n",
    "    return r.json()"
   ]
  },
  {
   "cell_type": "markdown",
   "metadata": {},
   "source": [
    "# Weather API\n",
    "\n",
    "Source Documentation: https://www.weather.gov/documentation/services-web-api\n",
    "\n",
    "## Authentication\n",
    "\n",
    "A User Agent is required to identify your application. This string can be anything, and the more unique to your application the less likely it will be affected by a security event. If you include contact information (website or email), we can contact you if your string is associated to a security event. This will be replaced with an API key in the future.\n",
    "\n",
    "`User-Agent: (myweatherapp.com, contact@myweatherapp.com)`"
   ]
  },
  {
   "cell_type": "code",
   "execution_count": null,
   "metadata": {},
   "outputs": [],
   "source": [
    "weather_data = get_weather(\"\")\n",
    "\n",
    "pprint(weather_data)"
   ]
  },
  {
   "cell_type": "markdown",
   "metadata": {},
   "source": [
    "## Local Coordinates\n",
    "\n",
    "02919/Coordinates\n",
    "41.8268° N, 71.5130° W\n",
    "\n",
    "`https://api.weather.gov/points/{latitude},{longitude}`\n",
    "For example: https://api.weather.gov/points/39.7456,-97.0892"
   ]
  },
  {
   "cell_type": "code",
   "execution_count": null,
   "metadata": {},
   "outputs": [],
   "source": [
    "data = get_weather(f\"/points/{latitude},{longitude}\")\n",
    "hourly_forcast_url = data[\"properties\"][\"forecastHourly\"]\n",
    "\n",
    "#\n",
    "\n",
    "hourly_forcast_data = get_weather(hourly_forcast_url, use_full_url=True)\n",
    "hourly_forcast_periods = hourly_forcast_data[\"properties\"][\"periods\"]\n",
    "\n",
    "pprint(hourly_forcast_periods[1])\n",
    "print(\"\")\n",
    "\n",
    "periods_useful_data = [\n",
    "    {\n",
    "        \"startTime\": period[\"startTime\"],\n",
    "        \"temperature\": period[\"temperature\"],\n",
    "        \"relativeHumidity\": period[\"relativeHumidity\"][\"value\"],\n",
    "        \"probabilityOfPrecipitation\": period[\"probabilityOfPrecipitation\"][\"value\"],\n",
    "        \"windSpeed\": int(str(period[\"windSpeed\"]).split(\" \")[0])\n",
    "    }\n",
    "    for period in hourly_forcast_periods\n",
    "]\n",
    "\n",
    "df = pd.DataFrame(periods_useful_data)\n",
    "df[\"startTime\"] = pd.to_datetime(df[\"startTime\"])\n",
    "\n",
    "print(df.dtypes)\n",
    "\n",
    "df"
   ]
  },
  {
   "cell_type": "markdown",
   "metadata": {},
   "source": [
    "## Plotting the useful data"
   ]
  },
  {
   "cell_type": "code",
   "execution_count": null,
   "metadata": {},
   "outputs": [],
   "source": [
    "fig = px.scatter(\n",
    "    df,\n",
    "    x=\"startTime\",\n",
    "    y=\"temperature\",\n",
    "    color=\"probabilityOfPrecipitation\",\n",
    "    size=\"windSpeed\",\n",
    "    title=\"Johnston/Smithfield Hourly Weather Forcast\",\n",
    "    trendline=\"lowess\",\n",
    "    trendline_color_override=\"black\",\n",
    "    trendline_options=dict(frac=0.15),\n",
    ")\n",
    "fig.show()"
   ]
  }
 ],
 "metadata": {
  "kernelspec": {
   "display_name": ".venv",
   "language": "python",
   "name": "python3"
  },
  "language_info": {
   "codemirror_mode": {
    "name": "ipython",
    "version": 3
   },
   "file_extension": ".py",
   "mimetype": "text/x-python",
   "name": "python",
   "nbconvert_exporter": "python",
   "pygments_lexer": "ipython3",
   "version": "3.12.3"
  }
 },
 "nbformat": 4,
 "nbformat_minor": 2
}
